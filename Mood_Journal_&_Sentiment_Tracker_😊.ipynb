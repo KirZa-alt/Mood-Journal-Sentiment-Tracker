{
  "nbformat": 4,
  "nbformat_minor": 0,
  "metadata": {
    "colab": {
      "provenance": [],
      "authorship_tag": "ABX9TyO3oplr8DX63ngRdDI9JSe+",
      "include_colab_link": true
    },
    "kernelspec": {
      "name": "python3",
      "display_name": "Python 3"
    },
    "language_info": {
      "name": "python"
    }
  },
  "cells": [
    {
      "cell_type": "markdown",
      "metadata": {
        "id": "view-in-github",
        "colab_type": "text"
      },
      "source": [
        "<a href=\"https://colab.research.google.com/github/KirZa-alt/Mood-Journal-Sentiment-Tracker/blob/main/Mood_Journal_%26_Sentiment_Tracker_%F0%9F%98%8A.ipynb\" target=\"_parent\"><img src=\"https://colab.research.google.com/assets/colab-badge.svg\" alt=\"Open In Colab\"/></a>"
      ]
    },
    {
      "cell_type": "markdown",
      "source": [
        "# **Project Title: Mood Journal & Sentiment Tracker 😊📘**\n",
        "# **Objective:**\n",
        "### Create a console-based personal mood journal app where the user can log daily thoughts and the app analyzes their mood trend using simple logic. It helps beginners practice Python through a real-life use case."
      ],
      "metadata": {
        "id": "aWpIYW1M9Gka"
      }
    },
    {
      "cell_type": "markdown",
      "source": [
        "## **Project Tasks & Requirements:**\n",
        "**1. Create a User Profile (Class)**\n",
        "\n",
        "**2. Daily Journal Entry**\n",
        "\n",
        "**3. Mood Analyzer (Function)**\n",
        "\n",
        "**4. Show Mood History**\n",
        "\n",
        "**5. Save and Load Journal**\n",
        "\n",
        "**6. Error Handling**"
      ],
      "metadata": {
        "id": "HnjKdrj69tbd"
      }
    },
    {
      "cell_type": "code",
      "execution_count": null,
      "metadata": {
        "id": "TV5Wg8rRyiIA"
      },
      "outputs": [],
      "source": [
        "class UserProfile:\n",
        "    def __init__(self, name):\n",
        "        self.name = name\n",
        "        self.entries = {}  # {date: (entry, mood)}\n",
        "\n",
        "    def add_entry(self, date, text, mood):\n",
        "        self.entries[date] = (text, mood)\n",
        "\n",
        "    def show_history(self):\n",
        "        for date, (entry, mood) in self.entries.items():\n",
        "            print(f\"{date}: Mood - {mood}, Entry - {entry}\")\n",
        "\n",
        "    def save_to_file(self, filename):\n",
        "        with open(filename, \"w\") as f:\n",
        "            for date, (entry, mood) in self.entries.items():\n",
        "                f.write(f\"{date}|{mood}|{entry}\\n\")\n",
        "\n",
        "    def load_from_file(self, filename):\n",
        "        try:\n",
        "            with open(filename, \"r\") as f:\n",
        "                for line in f:\n",
        "                    date, mood, entry = line.strip().split(\"|\")\n",
        "                    self.entries[date] = (entry, mood)\n",
        "        except FileNotFoundError:\n",
        "            print(\"No previous journal found.\")"
      ]
    },
    {
      "cell_type": "code",
      "source": [
        "def analyze_mood(text):\n",
        "    happy_words = [\"happy\", \"great\", \"good\", \"awesome\", \"excited\"]\n",
        "    sad_words = [\"sad\", \"tired\", \"bad\", \"angry\", \"upset\"]\n",
        "\n",
        "    text = text.lower()\n",
        "    mood_score = 0\n",
        "\n",
        "    for word in happy_words:\n",
        "        if word in text:\n",
        "            mood_score += 1\n",
        "    for word in sad_words:\n",
        "        if word in text:\n",
        "            mood_score -= 1\n",
        "\n",
        "    if mood_score > 0:\n",
        "        return \"Happy 😊\"\n",
        "    elif mood_score < 0:\n",
        "        return \"Sad 😞\"\n",
        "    else:\n",
        "        return \"Neutral 😐\""
      ],
      "metadata": {
        "id": "sOIXnE91y6jV"
      },
      "execution_count": null,
      "outputs": []
    },
    {
      "cell_type": "code",
      "source": [
        "import datetime\n",
        "\n",
        "def main():\n",
        "    name = input(\"Enter your name: \")\n",
        "    user = UserProfile(name)\n",
        "    user.load_from_file(\"journal.txt\")\n",
        "\n",
        "    while True:\n",
        "        print(\"\\n--- Mood Journal Menu ---\")\n",
        "        print(\"1. Write Today's Entry\")\n",
        "        print(\"2. Show Mood History\")\n",
        "        print(\"3. Save Journal\")\n",
        "        print(\"4. Exit\")\n",
        "        choice = input(\"Enter your choice: \")\n",
        "\n",
        "        if choice == \"1\":\n",
        "            entry = input(\"How do you feel today? \")\n",
        "            mood = analyze_mood(entry)\n",
        "            today = str(datetime.date.today())\n",
        "            user.add_entry(today, entry, mood)\n",
        "            print(f\"Mood detected: {mood}\")\n",
        "\n",
        "        elif choice == \"2\":\n",
        "            user.show_history()\n",
        "\n",
        "        elif choice == \"3\":\n",
        "            user.save_to_file(\"journal.txt\")\n",
        "            print(\"Journal saved!\")\n",
        "\n",
        "        elif choice == \"4\":\n",
        "            print(\"Goodbye!\")\n",
        "            break\n",
        "\n",
        "        else:\n",
        "            print(\"Invalid choice. Try again.\")"
      ],
      "metadata": {
        "id": "EBacjgkO7PG2"
      },
      "execution_count": null,
      "outputs": []
    },
    {
      "cell_type": "markdown",
      "source": [
        "# **Bonus Features:**"
      ],
      "metadata": {
        "id": "TQng8zo9-b-X"
      }
    },
    {
      "cell_type": "code",
      "source": [
        "def suggest_activity(mood):\n",
        "    if \"Happy\" in mood:\n",
        "        return \"Go for a walk or celebrate!\"\n",
        "    elif \"Sad\" in mood:\n",
        "        return \"Try listening to music or journaling.\"\n",
        "    else:\n",
        "        return \"Take a short break or do deep breathing.\""
      ],
      "metadata": {
        "id": "zSI1nuja7iok"
      },
      "execution_count": null,
      "outputs": []
    }
  ]
}